{
 "cells": [
  {
   "cell_type": "markdown",
   "metadata": {},
   "source": [
    "**事前準備**\n",
    "\n",
    "1. [nightley](https://nightley.jp/archives/1954/) から東京都全域の境界データをダウンロード（.zipファイル）\n",
    "2. .zipファイルを解凍し, `一般公開ファイル`を取得\n",
    "3. 一般公開ファイル/20140808_snsbasedPeopleFlowData_nightley.zip を解凍\n",
    "\n",
    "※ Kaggleにもバスの移動データ等が存在するらしい"
   ]
  },
  {
   "cell_type": "code",
   "execution_count": null,
   "metadata": {},
   "outputs": [],
   "source": [
    "import os\n",
    "import folium\n",
    "import zipfile\n",
    "import numpy as np\n",
    "import pandas as pd\n",
    "from tqdm import tqdm\n",
    "from bs4 import BeautifulSoup"
   ]
  },
  {
   "cell_type": "markdown",
   "metadata": {},
   "source": [
    "#### データ"
   ]
  },
  {
   "cell_type": "markdown",
   "metadata": {},
   "source": [
    "【擬似人流データ　CSVデータ概要】\n",
    "\n",
    "実データ：人々が訪れる場所や施設、時間帯(SNS ベース)、道路ネットワーク  \n",
    "推定データ：移動経路、居住地、勤務地、滞在時間、性別、滞在中何をしているか(買い 物やレジャーなど)  \n",
    "含まれないデータ：鉄道経路、個人を特定する情報、滞在施設名  \n",
    "エリア：東京近郊(首都圏)  \n",
    "対象時期：2013年7月(7/1, 7/7)、10月(10/7, 10/13)、12月(12/16, 12/22)  \n",
    "時間単位：5分毎(24時間分)  \n",
    "レコード数：各csvファイルで約70,000件  \n",
    "ファイルサイズ：約100MB  \n",
    "\n",
    "---\n",
    "\n",
    "【ファイル構成】\n",
    "\n",
    "疑似人流データ(csv形式)  \n",
    "\n",
    "- 1行目：ユーザー ID\n",
    "- 2行目：性別(推定値) ※文字列型\n",
    "- 3行目：日付・時刻\n",
    "- 4行目：緯度\n",
    "- 5行目：経度\n",
    "- 6行目：滞在者カテゴリ(大分類) ※文字列型\n",
    "- 7行目：滞在者カテゴリ(小分類) ※文字列型\n",
    "- 8行目：状態(滞在or移動) ※文字列型\n",
    "- 9行目：滞在者カテゴリID(6行目に対応)  \n"
   ]
  },
  {
   "cell_type": "code",
   "execution_count": null,
   "metadata": {},
   "outputs": [],
   "source": [
    "df_all = pd.read_csv(\"./一般公開ファイル/20140808_snsbasedPeopleFlowData_nightley/2013-07-01.csv\",header=None)\n",
    "df_all.columns=[\"uuid\",\"sex\",\"date\",\"lat\",\"lon\",\"level1\",\"level2\",\"state\",\"level2id\"]"
   ]
  },
  {
   "cell_type": "code",
   "execution_count": null,
   "metadata": {},
   "outputs": [],
   "source": [
    "df_all.head(2)"
   ]
  },
  {
   "cell_type": "code",
   "execution_count": null,
   "metadata": {},
   "outputs": [],
   "source": [
    "from folium.plugins import HeatMap,HeatMapWithTime\n",
    "\n",
    "# folium icon list\n",
    "# https://fontawesome.com/search?q=train&o=r&s=solid&f=classic"
   ]
  },
  {
   "cell_type": "markdown",
   "metadata": {},
   "source": [
    "#### 全データを可視化"
   ]
  },
  {
   "cell_type": "code",
   "execution_count": null,
   "metadata": {},
   "outputs": [],
   "source": [
    "geo_list = df_all[[\"lat\",\"lon\"]].values.tolist()"
   ]
  },
  {
   "cell_type": "code",
   "execution_count": null,
   "metadata": {},
   "outputs": [],
   "source": [
    "fmap = folium.Map(\n",
    "    location=[35.6809591,139.7673068], \n",
    "    zoom_start=14, \n",
    "    tiles='cartodbdark_matter',\n",
    "    prefer_canvas=True,\n",
    ")"
   ]
  },
  {
   "cell_type": "code",
   "execution_count": null,
   "metadata": {},
   "outputs": [],
   "source": [
    "HeatMap(geo_list,radius=2,blur=15).add_to(fmap)"
   ]
  },
  {
   "cell_type": "code",
   "execution_count": null,
   "metadata": {},
   "outputs": [],
   "source": [
    "fmap"
   ]
  },
  {
   "cell_type": "markdown",
   "metadata": {},
   "source": [
    "#### あるUUIDのデータを可視化"
   ]
  },
  {
   "cell_type": "code",
   "execution_count": null,
   "metadata": {},
   "outputs": [],
   "source": [
    "df = df_all[df_all[\"uuid\"]==1013]"
   ]
  },
  {
   "cell_type": "code",
   "execution_count": null,
   "metadata": {},
   "outputs": [],
   "source": [
    "df.shape"
   ]
  },
  {
   "cell_type": "code",
   "execution_count": null,
   "metadata": {},
   "outputs": [],
   "source": [
    "geo_list = df[[\"lat\",\"lon\"]].values.tolist()"
   ]
  },
  {
   "cell_type": "code",
   "execution_count": null,
   "metadata": {},
   "outputs": [],
   "source": [
    "fmap = folium.Map(\n",
    "    location=[35.6809591,139.7673068], \n",
    "    zoom_start=14, \n",
    "    tiles='cartodbdark_matter',\n",
    "    prefer_canvas=True,\n",
    ")"
   ]
  },
  {
   "cell_type": "code",
   "execution_count": null,
   "metadata": {},
   "outputs": [],
   "source": [
    "folium.Marker(\n",
    "    location=[35.6809591,139.7673068],\n",
    "    icon=folium.Icon(\n",
    "        color=\"darkred\",icon=\"train\",icon_color=\"white\",prefix=\"fa\",\n",
    "        # popup=\"Tokyo Station\", tooltip='Tokyo Station',\n",
    "    )\n",
    ").add_to(fmap)"
   ]
  },
  {
   "cell_type": "code",
   "execution_count": null,
   "metadata": {},
   "outputs": [],
   "source": [
    "HeatMap(geo_list,radius=10,blur=5).add_to(fmap)"
   ]
  },
  {
   "cell_type": "code",
   "execution_count": null,
   "metadata": {},
   "outputs": [],
   "source": [
    "fmap"
   ]
  },
  {
   "cell_type": "code",
   "execution_count": null,
   "metadata": {},
   "outputs": [],
   "source": [
    "# fmap.save('demo_map.html')"
   ]
  },
  {
   "cell_type": "markdown",
   "metadata": {},
   "source": [
    "#### あるUUIDのデータを時系列で可視化"
   ]
  },
  {
   "cell_type": "code",
   "execution_count": null,
   "metadata": {},
   "outputs": [],
   "source": [
    "df = df_all[df_all[\"uuid\"]==1013]"
   ]
  },
  {
   "cell_type": "code",
   "execution_count": null,
   "metadata": {},
   "outputs": [],
   "source": [
    "geo_list = df[[\"lat\",\"lon\"]].values.tolist()"
   ]
  },
  {
   "cell_type": "code",
   "execution_count": null,
   "metadata": {},
   "outputs": [],
   "source": [
    "df[\"date\"] = pd.to_datetime(df[\"date\"]).dt.strftime(\"%Y-%m-%d %H:%M\")"
   ]
  },
  {
   "cell_type": "code",
   "execution_count": null,
   "metadata": {},
   "outputs": [],
   "source": [
    "fmap = folium.Map(\n",
    "    location=[35.6809591,139.7673068], \n",
    "    zoom_start=16, \n",
    "    tiles='cartodbdark_matter',\n",
    "    prefer_canvas=True,\n",
    ")\n",
    "folium.Marker(\n",
    "    location=[35.6809591,139.7673068],\n",
    "    icon=folium.Icon(\n",
    "        color=\"darkred\",icon=\"train\",icon_color=\"white\",prefix=\"fa\",\n",
    "        # popup=\"Tokyo Station\", tooltip='Tokyo Station',\n",
    "    )\n",
    ").add_to(fmap)"
   ]
  },
  {
   "cell_type": "code",
   "execution_count": null,
   "metadata": {},
   "outputs": [],
   "source": [
    "# HeatMapWithTime用にデータを加工（時間軸を考慮した配列構造）\n",
    "geo_loc_list = [loc for loc in geo_list]"
   ]
  },
  {
   "cell_type": "code",
   "execution_count": null,
   "metadata": {},
   "outputs": [],
   "source": [
    "from datetime import datetime, timedelta\n",
    "\n",
    "HeatMapWithTime(geo_loc_list,radius=25,index=df[\"date\"].tolist(),auto_play=True,max_opacity=0.6).add_to(fmap)"
   ]
  },
  {
   "cell_type": "code",
   "execution_count": null,
   "metadata": {},
   "outputs": [],
   "source": [
    "fmap"
   ]
  },
  {
   "cell_type": "code",
   "execution_count": null,
   "metadata": {},
   "outputs": [],
   "source": [
    "fmap.save(\"time_demo.html\")"
   ]
  },
  {
   "cell_type": "markdown",
   "metadata": {},
   "source": [
    "#### 参考"
   ]
  },
  {
   "cell_type": "markdown",
   "metadata": {},
   "source": [
    "- [Pythonライブラリのfoliumでサクッとクールなヒートマップを作ってみる](https://note.com/narudesu/n/n3d882a711e24)\n",
    "- [python foliumで時系列ヒートマップ(time series heatmap)描く](https://sammi-baba.hatenablog.com/entry/2018/12/25/074017)\n",
    "- [Simple GPS data visualization using Python and Open Street Maps](https://towardsdatascience.com/simple-gps-data-visualization-using-python-and-open-street-maps-50f992e9b676): 画像に描画する方式"
   ]
  }
 ],
 "metadata": {
  "kernelspec": {
   "display_name": "Python 3",
   "language": "python",
   "name": "python3"
  },
  "language_info": {
   "codemirror_mode": {
    "name": "ipython",
    "version": 3
   },
   "file_extension": ".py",
   "mimetype": "text/x-python",
   "name": "python",
   "nbconvert_exporter": "python",
   "pygments_lexer": "ipython3",
   "version": "3.7.7"
  }
 },
 "nbformat": 4,
 "nbformat_minor": 4
}
